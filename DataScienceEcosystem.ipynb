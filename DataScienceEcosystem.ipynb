{
 "cells": [
  {
   "cell_type": "markdown",
   "id": "48d89d39-c70e-4cb0-b56c-c23998f41b80",
   "metadata": {},
   "source": [
    "# Data Science Tools and Ecosystem"
   ]
  },
  {
   "cell_type": "markdown",
   "id": "06e68030-83ff-462d-82f7-575bbc0368b6",
   "metadata": {},
   "source": [
    "In this notebook, Data Science Tools and Ecosystem are summarized"
   ]
  },
  {
   "cell_type": "markdown",
   "id": "1ed3b247-51c9-4a98-9f85-81b121c85cb9",
   "metadata": {},
   "source": [
    "**Objectives:**\n",
    "- Create a Jupyter Notebook using Markdown and code cells\n",
    "- List examples of languages, libraries, and tools used in Data Science\n",
    "- Share your Jupyter Notebook publicly on GitHub\n",
    "- Evaluate your peers' submitted notebooks using the provided rubric\n",
    "- Demonstrate proficiency in knowledge of the Data Science toolset"
   ]
  },
  {
   "cell_type": "markdown",
   "id": "b10ce80f-7e1a-48d9-b543-61c5b33d137d",
   "metadata": {},
   "source": [
    "Some of the popular languages that Data Scientists use are:\n",
    "\n",
    "1. Python\n",
    "2. R\n",
    "3. SQL\n",
    "4. Julia\n",
    "5. Scala"
   ]
  },
  {
   "cell_type": "markdown",
   "id": "1cd69eec-446e-4a79-bc3d-8a74b428738b",
   "metadata": {},
   "source": [
    "Some of the commonly used libraries used by Data Scientists include:\n",
    "\n",
    "1. Pandas\n",
    "2. Numpy\n",
    "3. SciPy\n",
    "4. Matplotlib\n",
    "5. Seaborn\n",
    "6. Plotly\n",
    "7. Scikit-learn"
   ]
  },
  {
   "cell_type": "markdown",
   "id": "37c0b7ef-cad2-47f7-ba74-47ed25783780",
   "metadata": {},
   "source": [
    "|Data Science Tools|\n",
    "|------------------|\n",
    "|Jupyter Notebook  |\n",
    "|RStudio           |\n",
    "|VS Code           |\n",
    "|Spyder            |\n",
    "|Google Colab      |\n",
    "|JupyterLab     |"
   ]
  },
  {
   "cell_type": "markdown",
   "id": "e3bc4050-46b6-46a0-ba65-a4eaf130280f",
   "metadata": {},
   "source": [
    "### Below are a few examples of evaluating arithmetic expressions in Python"
   ]
  },
  {
   "cell_type": "code",
   "execution_count": 28,
   "id": "7edc0c95-de14-45e1-b189-bea563a2f8db",
   "metadata": {},
   "outputs": [
    {
     "data": {
      "text/plain": [
       "17"
      ]
     },
     "execution_count": 28,
     "metadata": {},
     "output_type": "execute_result"
    }
   ],
   "source": [
    "# This a simple arithmetic expression to mutiply then add integers\n",
    "(3*4)+5"
   ]
  },
  {
   "cell_type": "code",
   "execution_count": 34,
   "id": "a83f09ef-0673-46fa-a121-40993f16a6f7",
   "metadata": {},
   "outputs": [
    {
     "data": {
      "text/plain": [
       "3.3"
      ]
     },
     "execution_count": 34,
     "metadata": {},
     "output_type": "execute_result"
    }
   ],
   "source": [
    "# This will convert 200 minutes to hours by diving by 60\n",
    "round(200/60, 1)"
   ]
  },
  {
   "cell_type": "markdown",
   "id": "a88624fb-d7cd-41e7-a024-05ab939fb1f5",
   "metadata": {},
   "source": [
    "## Author\n",
    "Wilman Alzate Alzate"
   ]
  }
 ],
 "metadata": {
  "kernelspec": {
   "display_name": "Python [conda env:base] *",
   "language": "python",
   "name": "conda-base-py"
  },
  "language_info": {
   "codemirror_mode": {
    "name": "ipython",
    "version": 3
   },
   "file_extension": ".py",
   "mimetype": "text/x-python",
   "name": "python",
   "nbconvert_exporter": "python",
   "pygments_lexer": "ipython3",
   "version": "3.12.7"
  }
 },
 "nbformat": 4,
 "nbformat_minor": 5
}
